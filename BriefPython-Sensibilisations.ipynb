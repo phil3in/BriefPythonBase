{
 "cells": [
  {
   "cell_type": "markdown",
   "metadata": {
    "raw_mimetype": "text/markdown"
   },
   "source": [
    "# Pourquoi utiliser un Environnement virtuel en Python ?"
   ]
  },
  {
   "cell_type": "markdown",
   "metadata": {},
   "source": [
    "PEP 405 : Les environnements virtuels sont largement utilisés pour la gestion des dépendances et l’isolation, la facilitation d’installation et d’utilisation des paquets Python sans qu’il y ait besoin de droits d’administration, et le test de logiciels Python dans plusieurs versions de Python, entre autres usages.\n",
    "\n",
    "\n",
    "Pour faire simple, le but d’un environnement virtuel est de faciliter la vie du développeur en lui permettant une meilleure maîtrise de son système.\n",
    "Si on multiplie des contraintes par le nombre de projets, chacun avec ses dépendances et ces dernières potentiellement non compatibles entre elles, on se retrouve avec un casse tête pour administrer son système et pour faire fonctionner tout cela. Sans compter le temps que cela prendrait pour changer son environnement système, à chaque fois que l’on change de projet.\n",
    "\n",
    "De plus, les projets doivent être maintenus et les langages évoluent. Il faut donc prévoir tester son logiciel dans une nouvelle version du langage et le faire tourner aisément sur différentes versions de Python. Idéalement, l’application est fournie avec des tests unitaires et il existe un environnement d’intégration, avec différents pipelines qui permettent de faire tourner les tests dans différentes versions du langage Python."
   ]
  },
  {
   "cell_type": "markdown",
   "metadata": {},
   "source": [
    "# Pour savoir quel Python dans votre environnement virtuel ?"
   ]
  },
  {
   "cell_type": "markdown",
   "metadata": {},
   "source": [
    "## Donnez moi svp le résultat de la commande CLI après avoir activé votre environnement virtuel : $ which python"
   ]
  },
  {
   "cell_type": "markdown",
   "metadata": {},
   "source": [
    "```\n",
    "(BriefPythonBase-env3.8.2)\n",
    "phile@LAPTOP-T5E308LF MINGW64 ~/Simplon/dev-data/PythonBase/BriefPythonBase (main)\n",
    "$ which python\n",
    "/c/Users/phile/Simplon/dev-data/PythonBase/BriefPythonBase/\\Users\\phile\\Simplon\\dev-data\\PythonBase\\BriefPythonBase-env3.8.2/Scripts/python\n",
    "(BriefPythonBase-env3.8.2)\n",
    "phile@LAPTOP-T5E308LF MINGW64 ~/Simplon/dev-data/PythonBase/BriefPythonBase (main)\n",
    "$```"
   ]
  },
  {
   "cell_type": "markdown",
   "metadata": {},
   "source": [
    "# Déactivez votre environnement virtuel\n",
    "\n",
    "## Puis redonnez moi svp le résultat de la commande CLI : $ which python"
   ]
  },
  {
   "cell_type": "markdown",
   "metadata": {},
   "source": [
    "```\n",
    "phile@LAPTOP-T5E308LF MINGW64 ~/Simplon/dev-data/PythonBase/BriefPythonBase (main)\n",
    "$ which python\n",
    "/c/Program Files/Python38/python\n",
    "phile@LAPTOP-T5E308LF MINGW64 ~/Simplon/dev-data/PythonBase/BriefPythonBase (main)\n",
    "$```"
   ]
  },
  {
   "cell_type": "markdown",
   "metadata": {},
   "source": [
    "Pour compléter, précisons qu’une bonne pratique consiste à mettre le répertoire ENV dans le fichier [.gitignore] et de lister tous les paquets utiles à un projet dans un fichier [requirements.txt] (ou dans plusieurs fichiers, si on veut différencier les environnements de développement, de test et de production).\n",
    "\n",
    "Best practice (BP) :\n",
    "1-Créez votre environnement virtuel.\n",
    "2-L’activez.\n",
    "3-puis installer les paquets souhaités avec cette CLI : $ pip install -r requirements.txt"
   ]
  },
  {
   "cell_type": "markdown",
   "metadata": {},
   "source": [
    "Il existe 2 principales solutions utilisées pour créer un environnement virtuel en Python : VIRTUALENV et VENV.\n",
    "\n",
    "[VIRTUALENV]\n",
    "```$ sudo apt install python3-virtualenv\n",
    "$ virtualenv -p python3 env\n",
    "$ source env/bin/activate\n",
    "(env)$ deactivate```\n",
    "\n",
    "[VENV]\n",
    "```$ python3 -m venv /path/to/new/env\n",
    "$ source /path/to/new/env/bin/activate\n",
    "pour le reste, tout fonctionne de la même manière```\n",
    "\n",
    "\n",
    "PS : VENV est une version plus légère et disponible dans la bibliothèque standard qui permet de faire le même travail. Un peu moins populaire que VIRTUALENV, mais néammoins très utilisée."
   ]
  },
  {
   "cell_type": "markdown",
   "metadata": {},
   "source": [
    "# Travailler avec plusieurs versions de Python"
   ]
  },
  {
   "cell_type": "markdown",
   "metadata": {},
   "source": [
    "Pour cela, nous allons utiliser à la place de VIRTUALENV ou de VENV, l’outil PYENV.\n",
    "\n",
    "Toutes les versions sont installées dans le répertoire $HOME/.pyenv\n",
    "\n",
    "Quelques commandes utiles :\n",
    "\n",
    "```$ pyenv install --list (lister les différentes versions disponibles)\n",
    "$ pyenv install 3.8.2\n",
    "$ pyenv which python3.5```\n",
    "\n",
    "Reste le plus important : comment utiliser une de ces versions de Python ? Pour cela il y a plusieurs options. Si vous souhaitez utiliser une version en particulier de Python, quel que soit l’endroit où vous êtes :\n",
    "\n",
    "```$ pyenv global 3.8.2\n",
    "$ python -V```\n",
    "\n",
    "Si vous ne souhaitez changer de version que pour un répertoire en particulier, par exemple votre projet:\n",
    "```$ pyenv local pypy-3.5.4\n",
    "$ pyenv python -V\n",
    "pour vérifier:\n",
    "$ cd ..\n",
    "$ python -V```\n",
    "\n",
    "Il faut installer VIRTUALENV au sein de la version de python modifié par PYENV."
   ]
  },
  {
   "cell_type": "markdown",
   "metadata": {},
   "source": [
    "# Du bon usage de PEP8 (Python Enhancement Proposal)"
   ]
  },
  {
   "cell_type": "markdown",
   "metadata": {},
   "source": [
    "Chaque langage a ses bonnes pratiques.\n",
    "\n",
    "En Python, ces règles portent le nom de PEP8.\n",
    "\n",
    "On peut citer également le PEP20, le «Zen of Python» de Tim Peters, qui ne s’apparente pas à un document technique mais qui peut être décrypté en tant que tel.\n",
    "\n",
    "Nous allons nous concentrer sur le PEP8, le doc qui définit les règles de codage en Python, écrit par Guido van Rossum, Barry Warsow, et Nick Coghlan."
   ]
  },
  {
   "cell_type": "markdown",
   "metadata": {},
   "source": [
    "## INDENTATIONS"
   ]
  },
  {
   "cell_type": "markdown",
   "metadata": {},
   "source": [
    "### Utilisez 4 espaces (et non des tabaulations) par niveau d’indentation\n",
    "### Les tabulations sont tolérées, si vous modifiez un code déjà indenté à l’aide de tabulations\n",
    "### Ne mélangez pas tabulations et espaces au sein d’un même code\n",
    "### Dans le cas du passage à la ligne alors qu’une parenthèse, qu’une accolade ou qu’un crochet est ouvert, ajoutez un niveau d’indentation ou alignez le code avec le caractère ouvrant."
   ]
  },
  {
   "cell_type": "code",
   "execution_count": null,
   "metadata": {},
   "outputs": [],
   "source": [
    "#CE QU’IL NE FAUT PAS FAIRE\n",
    "\n",
    "ma_liste = [\n",
    "    \"élément 1\",\n",
    "    \"élément 2\"\n",
    "]\n",
    "\n",
    "def ma_fonction(\n",
    "    arg1,\n",
    "    arg2,arg3, arg4,\n",
    "    arg5):\n",
    "    pass\n",
    "\n",
    "variable = ma_fonction(12, \"chaine\", 1, 0, 0)"
   ]
  },
  {
   "cell_type": "code",
   "execution_count": null,
   "metadata": {},
   "outputs": [],
   "source": [
    "#CE QU’IL FAUT  FAIRE\n",
    "\n",
    "ma_liste = [\n",
    "    \"élément 1\",\n",
    "    \"élément 2\"\n",
    "]\n",
    "\n",
    "def ma_fonction(arg1, arg2, arg3, \n",
    "                arg4, arg5):\n",
    "    pass\n",
    "\n",
    "variable = ma_fonction(\n",
    "    12, \n",
    "    \"chaine\", \n",
    "    1, \n",
    "    0, \n",
    "    0)"
   ]
  },
  {
   "cell_type": "markdown",
   "metadata": {},
   "source": [
    "## LONGUEUR DES LIGNES"
   ]
  },
  {
   "cell_type": "markdown",
   "metadata": {},
   "source": [
    "### ne dépassez pas 79 caractères par ligne ou, si c’est une décision de votre équipe de développement, vous pouvez aller jusqu’à 99 caractères par ligne.\n",
    "### les lignes de texte pur (commentaires) ne doivent pas dépasser 72 caractères.\n",
    "### si une ligne doit être coupée et qu’elle n’accepte pas la \"continuation implicite\", utilisez un \\\n",
    "### dans les lignes de calculs, coupez vos lignes avant un nouvel opérateur"
   ]
  },
  {
   "cell_type": "code",
   "execution_count": null,
   "metadata": {},
   "outputs": [],
   "source": [
    "# CE QU’IL NE FAUT PAS FAIRE\n",
    "\n",
    "with open(\"filename1.txt\", \"r\") as fic1, open(\"filename2.txt\", \"w\") as fic2 :\n",
    "    pass\n",
    "\n",
    "result = variable1 + variable2\n",
    "        - variable3\n",
    "        + (variable4 + variable5)"
   ]
  },
  {
   "cell_type": "code",
   "execution_count": null,
   "metadata": {},
   "outputs": [],
   "source": [
    "# CE QU’IL  FAUT  FAIRE\n",
    "\n",
    "with open(\"filename1.txt\", \"r\") as fic1, \\\n",
    "    open(\"filename2.txt\", \"w\") as fic2 :\n",
    "    pass\n",
    "\n",
    "result = variable1 + variable2 -\n",
    "        variable3 +\n",
    "        (variable4 + variable5)"
   ]
  },
  {
   "cell_type": "markdown",
   "metadata": {},
   "source": [
    "## BEAUTIFUL IS BETTER THAN UGLY"
   ]
  },
  {
   "cell_type": "markdown",
   "metadata": {},
   "source": [
    "### Séparez les définitions de classes et les fonctions de niveau le plus haut par deux lignes vides.\n",
    "### Les groupes de fonctions liées d’un point de vue logique peuvent être séparés en ajoutant une ligne vide supplémentaire.\n",
    "### A l’intérieur des fonctions, séparez les sections logiques en ajoutant une ligne vide.\n"
   ]
  },
  {
   "cell_type": "code",
   "execution_count": null,
   "metadata": {},
   "outputs": [],
   "source": [
    "# CE QU’IL NE FAUT PAS FAIRE\n",
    "\n",
    "class MaClasse:\n",
    "    def __init__(self, attribut):\n",
    "        self._attribut = attribut\n",
    "    def _get_attribut(self):\n",
    "        return self._attribut\n",
    "    def _set_attribut(self, valeur):\n",
    "        self._attribut = valeur\n",
    "    attribut = property(_get_attribut, _set_attribut)\n",
    "    def methode(self):\n",
    "        pass"
   ]
  },
  {
   "cell_type": "code",
   "execution_count": null,
   "metadata": {},
   "outputs": [],
   "source": [
    "# CE QU’IL FAUT FAIRE\n",
    "\n",
    "class MaClasse:\n",
    "    \n",
    "    def __init__(self, attribut):\n",
    "        self._attribut = attribut\n",
    "        \n",
    "    def _get_attribut(self):\n",
    "        return self._attribut\n",
    "    \n",
    "    def _set_attribut(self, valeur):\n",
    "        self._attribut = valeur\n",
    "        \n",
    "    attribut = property(_get_attribut, _set_attribut)\n",
    "    \n",
    "    def methode(self):\n",
    "        pass"
   ]
  },
  {
   "cell_type": "markdown",
   "metadata": {},
   "source": [
    "## ESPACEZ VOTRE CODE"
   ]
  },
  {
   "cell_type": "markdown",
   "metadata": {},
   "source": [
    "### Allez à la ligne pour chaque import de module (et non pas, pour chaque élément importé depuis un module)\n",
    "### Ajoutez des espaces autour des opérateurs, sauf:\n",
    "* #### pour l’assignation de valeurs dans les paramètres d’une fonction\n",
    "* #### dans les calculs longs, les espaces seront ajoutées autour des opérateurs de faible priorité\n",
    "\n",
    "### Ajoutez un espace après les virgules, sauf dans le cas d’un tuple d’un seul élément\n",
    "### N’alignez pas les signes = des suites de lignes d’affectations\n",
    "### Pour les annotations de fonctions, pas d’espace avant les deux-points"
   ]
  },
  {
   "cell_type": "code",
   "execution_count": null,
   "metadata": {},
   "outputs": [],
   "source": [
    "# CE QU’IL NE FAUT PAS FAIRE\n",
    "\n",
    "import os, sys\n",
    "from math import cos\n",
    "from math import sin\n",
    "from math import tan\n",
    "\n",
    "def ma_fonction(arg1, arg2 = 10, arg3 = 5):\n",
    "    if (arg1 + arg2)-arg3 ** 2==120:\n",
    "        return (1,3,6,9)\n",
    "    else:\n",
    "        return (1, )\n",
    "    \n",
    "def autre_fonction(arg1 : int, arg2: int=0) -> None:\n",
    "    val1              = 5\n",
    "    valeur2          = \"chaine\"\n",
    "    troisieme_valeur = 3"
   ]
  },
  {
   "cell_type": "code",
   "execution_count": null,
   "metadata": {},
   "outputs": [],
   "source": [
    "# CE QU’IL FAUT FAIRE\n",
    "\n",
    "import os\n",
    "import sys\n",
    "from math import cos, sin, tan\n",
    "\n",
    "def ma_fonction(arg1, arg2=10, arg3=5):\n",
    "    if (arg1+arg2) - arg3**2 == 120:\n",
    "        return(1, 3, 6, 9)\n",
    "    else:\n",
    "        return(1,)\n",
    "\n",
    "def autre_fonction(arg1: int, arg2: int = 0) -> None:\n",
    "    val1 = 5\n",
    "    valeur2  = \"chaine\"\n",
    "    troisieme_valeur = 3"
   ]
  },
  {
   "cell_type": "markdown",
   "metadata": {},
   "source": [
    "## ÉCRITURE DES COMMENTAIRES"
   ]
  },
  {
   "cell_type": "markdown",
   "metadata": {},
   "source": [
    "### Il ne faut pas dépasser 72 caractères par ligne\n",
    "### Les commentaires sont composés de phrases qui débutent donc naturellement par une majuscule et se terminent par un point.\n",
    "### L’indentation des blocs de commentaires est la même que celle des lignes qu’ils commentent\n",
    "### Pour les blocs de commentaires en #, séparez chaque paragraphe par une ligne ne contenant que \"#\"\n",
    "### Pour les commentaires en ligne, séparez ceux-ci du code qu’ils commentent par au moins deux espaces.\n",
    "### Les docstrings suivent les mêmes règles que précédemment pour l’indentation, les paragraphes sont séparés par des lignes vides et la fermeture des docstrings se fait par une ligne ne contenant que \"\"\" ou ’’’ (choisir une des deux formes et s’y tenir)"
   ]
  },
  {
   "cell_type": "code",
   "execution_count": null,
   "metadata": {},
   "outputs": [],
   "source": [
    "# CE QU’IL NE FAUT PAS FAIRE\n",
    "\n",
    "\n",
    "def ma_fonction(arg1, arg2=10, arg3=5):\n",
    "# Test arguments\n",
    "    if (arg1+arg2) - arg3**2 == 120:\n",
    "        return (1, 3, 6, 9)\n",
    "    else:\n",
    "        return (1,) # retour Tuple\n",
    "    \n",
    "def autre_fonction(arg1: int, arg2: int = 0) -> None:\n",
    "    \"\"\"\n",
    "        Docstring associée à la fonction autre_fonction.\n",
    "        On initialise trois variables.\"\"\"\n",
    "    val1 = 5\n",
    "    valeur2 = \"chaine\"\n",
    "    troisieme_valeur = 3"
   ]
  },
  {
   "cell_type": "code",
   "execution_count": null,
   "metadata": {},
   "outputs": [],
   "source": [
    "# CE QU’IL FAUT FAIRE\n",
    "\n",
    "def ma_fonction(arg1, arg2=10, arg3=5):\n",
    "    # Ceci explique ce que fait la fonction.\n",
    "    #\n",
    "    # On teste les arguments.\n",
    "    if (arg1+arg2) - arg3**2 == 120:\n",
    "        return (1, 3, 6, 9)\n",
    "    else:\n",
    "        return (1,) # On renvoie un tuple\n",
    "    \n",
    "def autre_fonction(arg1: int, arg2: int=0) -> None:\n",
    "    \"\"\"Doctring associée à la fonction autre_fonction.\n",
    "    \n",
    "    On initialise trois variables.    \n",
    "    \"\"\"\n",
    "    val1 = 5\n",
    "    valeur2 = \"chaine\"\n",
    "    troisieme_valeur = 3"
   ]
  },
  {
   "cell_type": "markdown",
   "metadata": {},
   "source": [
    "### CONVENTIONS DE NOMMAGE"
   ]
  },
  {
   "cell_type": "markdown",
   "metadata": {},
   "source": [
    "### Ne jamais utiliser les lettres l, O et I comme nom de variable, car suivant la police, elles peuvent être confondues avec des 1 ou 0.\n",
    "### Les noms de modules, de fonctions et de variables sont en minuscules, avec éventuellement des underscores si cela améliore la lisibilité.\n",
    "### Les noms de classes sont écrits en CamelCase (tout en minuscules, avec une majuscule au début de chaque nouveau mot)\n",
    "### Les constantes sont en majuscules, avec éventuellement des underscores si cela améliore la lisibilité.\n",
    "### Utilisez des définitions de fonctions plutôt que des fonctions anonymes, même pour les fonctions courtes."
   ]
  },
  {
   "cell_type": "code",
   "execution_count": null,
   "metadata": {},
   "outputs": [],
   "source": [
    "# CE QU’IL NE FAUT PAS FAIRE\n",
    "\n",
    "maVariable = 10\n",
    "Ma_Constante = 5\n",
    "\n",
    "fct = lambda arg1: arg1**2\n",
    "\n",
    "class ma_classe:\n",
    "    \n",
    "    def __init__(self, ATTRIBUT):\n",
    "        self.Attribut = ATTRIBUT\n",
    "        \n",
    "    def MaMethode(self):\n",
    "        pass"
   ]
  },
  {
   "cell_type": "code",
   "execution_count": null,
   "metadata": {},
   "outputs": [],
   "source": [
    "# CE QU’IL FAUT FAIRE\n",
    "\n",
    "ma_variable = 10\n",
    "MA_CONSTANTE = 5\n",
    "\n",
    "def fct(arg1: int):\n",
    "    return arg1**2\n",
    "\n",
    "class MaClasse:\n",
    "    \n",
    "    def __init__(self, attribut):\n",
    "        self.attribut = attribut\n",
    "    \n",
    "    def ma_methode(self):\n",
    "        pass"
   ]
  },
  {
   "cell_type": "code",
   "execution_count": null,
   "metadata": {},
   "outputs": [],
   "source": [
    "# script Python «exemple.py» qui reprend qq pratiques à éviter.\n",
    "\n",
    "import os, sys\n",
    "from math import cos\n",
    "from math import sin\n",
    "from math import tan\n",
    "\n",
    "ma_constante = 10\n",
    "\n",
    "class MaClasse:\n",
    "    def __init__(self, attribut):\n",
    "        self._attribut = attribut\n",
    "    def _get_attribut(self):\n",
    "        return self._attribut\n",
    "    def _set_attribut(self, valeur):\n",
    "        self._attribut = valeur\n",
    "    attribut = property(_get_attribut, _set_attribut)\n",
    "    def methode(self):\n",
    "        pass\n",
    "    def MonAUTRE_methode(self,\n",
    "        arg1,\n",
    "        arg2, arg3, arg4,\n",
    "        arg5):\n",
    "        pass\n",
    "    def AutreMethode(self, arg1: int, arg2: int = 0) -> None:\n",
    "        \"\"\"\n",
    "            Docstring associée à la fonction autre_fonction.\n",
    "            On initialise trois variables.\n",
    "        \"\"\"\n",
    "        val1 = 5\n",
    "        valeur2 = \"chaine\"\n",
    "        troisieme_valeur = 3\n",
    "        return val1 \n",
    "                + troisieme_valeur\n",
    "\n",
    "if __name__ == \"__main__\":\n",
    "    \n",
    "    ma_liste = [\n",
    "        \"élément 1\",\n",
    "        \"élément 2\"\n",
    "    ]\n",
    "    \n",
    "    fct = lambda arg1: arg1**2\n",
    "    \n",
    "    variable = ma_fonction(12, \"chaine\", \n",
    "        1, 0, 0)\n",
    "    \n",
    "    with open(\"filename1.txt\", \"r\") as fic1, open(\"filename2.txt\", \"w\") \n",
    "as fic2, open(\"filename3.txt\", \"w\") as fic3, open(\"filename1.txt\", \"w\") as fic4 :\n",
    "        pass"
   ]
  },
  {
   "cell_type": "markdown",
   "metadata": {},
   "source": [
    "## EXO : Merci de réécrire ce script «exemple.py» selon PEP8 ci-dessous :"
   ]
  },
  {
   "cell_type": "code",
   "execution_count": null,
   "metadata": {},
   "outputs": [],
   "source": [
    "import os\n",
    "import sys\n",
    "from math import cos, sin, tan\n",
    "\n",
    "MA_CONSTANTE = 10\n",
    "\n",
    "class MaClasse:\n",
    "    \n",
    "    def __init__(self, attribut):\n",
    "        self._attribut = attribut\n",
    "        \n",
    "    def _get_attribut(self):\n",
    "        return self._attribut\n",
    "    \n",
    "    def _set_attribut(self, valeur):\n",
    "        self._attribut = valeur\n",
    "        \n",
    "    attribut = property(_get_attribut, _set_attribut)\n",
    "    \n",
    "    \n",
    "    def methode(self):\n",
    "        pass\n",
    "    \n",
    "    def mon_autre_methode(self, arg1, arg2, arg3, arg4, arg5):\n",
    "        pass\n",
    "    \n",
    "    def autre_methode(self, arg1: int, arg2: int = 0) -> None:\n",
    "        \"\"\"Docstring associée à la fonction autre_fonction.\n",
    "            On initialise trois variables.\n",
    "        \"\"\"\n",
    "        val1 = 5\n",
    "        valeur2 = \"chaine\"\n",
    "        troisieme_valeur = 3\n",
    "        return val1 +\n",
    "                troisieme_valeur\n",
    "\n",
    "        \n",
    "if __name__ == \"__main__\":\n",
    "    \n",
    "    ma_liste = [\n",
    "        \"élément 1\",\n",
    "        \"élément 2\"\n",
    "    ]\n",
    "    \n",
    "    def fct(arg1):\n",
    "        return arg1 ** 2\n",
    "    \n",
    "    variable = ma_fonction(\n",
    "        12,\n",
    "        \"chaine\", \n",
    "        1, \n",
    "        0, \n",
    "        0)\n",
    "    \n",
    "    with open(\"filename1.txt\", \"r\") as fic1, \\\n",
    "        open(\"filename2.txt\", \"w\") as fic2, \\\n",
    "        open(\"filename3.txt\", \"w\") as fic3, \\\n",
    "        open(\"filename1.txt\", \"w\") as fic4:\n",
    "        pass"
   ]
  },
  {
   "cell_type": "markdown",
   "metadata": {},
   "source": [
    "## OUTILS DÉBUG PYTHON"
   ]
  },
  {
   "cell_type": "markdown",
   "metadata": {},
   "source": [
    "Pouvoir déboguer son code en toutes circonstances, le tester à chaque amélioration, suivre son utilisation et son bon fonctionnement et être capable d’en optimiser les points faibles.\n",
    "\n",
    "Voici des outils pour y parvenir."
   ]
  },
  {
   "cell_type": "markdown",
   "metadata": {},
   "source": [
    "```import pdb; pdb.set_trace()```"
   ]
  },
  {
   "cell_type": "markdown",
   "metadata": {},
   "source": [
    "ou"
   ]
  },
  {
   "cell_type": "markdown",
   "metadata": {},
   "source": [
    "```$ pip install ipdb\n",
    "import ipdb; ipdb.set_trace()```"
   ]
  },
  {
   "cell_type": "markdown",
   "metadata": {},
   "source": [
    "Une des limitations de pdb est lorsque l’on utilise des THREADS, par ex. Pour cela, il existe plusieurs alternatives à pdb qui utilisent le réseau. Citons wdb :"
   ]
  },
  {
   "cell_type": "markdown",
   "metadata": {},
   "source": [
    "```$ pip install wdb wdb.server```\n",
    "\n",
    "puis on doit lancer le serveur :\n",
    "    \n",
    "```$ wdb.server.py &```\n",
    "\n",
    "puis vous pouvez commencer à travailler :\n",
    "```$ PYTHONBREAKPOINT=wdb.set_trace python programme.py```\n",
    "\n",
    "lorsqu’un point d’arrêt est atteint, une fenêtre s’ouvre automatiquement dans votre navigateur et vous permet de travailler autour de votre point d’arrêt :\n",
    "le point d’arrêt devient un client de votre serveur lancé en arrière plan.\n",
    "\n",
    "On peut également citer une autre alternative, qui fonctionne sur le même principe :\n",
    "\n",
    "```$ pip install web-pdb\n",
    "puis lancer cet outil :\n",
    "$ PYTHONBREAKPOINT=web_pdb.set_trace python programme.py```\n",
    "\n",
    "lorsque vous arriverez au point d’arrêt, ce dernier lancera un serveur et ce sera à vous d’aller ouvrir votre navigateur à l’adresse suivante : [localhost:5555]\n"
   ]
  },
  {
   "cell_type": "markdown",
   "metadata": {},
   "source": [
    "### Méthodes"
   ]
  },
  {
   "cell_type": "markdown",
   "metadata": {},
   "source": [
    "Pour en savoir plus sur un objet, on peut utiliser ces trois primitives essentielles : TYPE, DIR et HELP\n",
    "\n",
    "type(obj)\n",
    "dir(obj) -> liste de tous les attributs de classe\n",
    "help(obj) -> avoir la documentation associée à un objet (d’où la nécessité d’écrire des docstrings)\n",
    "\n",
    "[BONUS] Pour aller plus loin, on peut utiliser INSPECT pour avoir par ex l’ens des attributs d’une classe qui ne sont pas des méthodse et qui ne sont pas des attributs privés ou spéciaux. En effet, certaines méthodes primitives ne sont pas considérées comme des méthodes classiques.\n"
   ]
  },
  {
   "cell_type": "markdown",
   "metadata": {},
   "source": [
    "### EXCEPTIONS"
   ]
  },
  {
   "cell_type": "markdown",
   "metadata": {},
   "source": [
    "Les exceptions sont un mécanisme qu’il est indispensable de maîtriser.\n",
    "Le but de ce système d’exception est de déléguer la responsabilité de leur gestion.\n",
    "Les exceptions sont toujours générées par des instructions RAISE. Une fonction contenant une telle instruction est nommée fonction critique.\n",
    "Lorsque l’on traite des exceptions, on met en place des scénarios alternatifs et on peut en avoir plusieurs selon le type d’exception :"
   ]
  },
  {
   "cell_type": "code",
   "execution_count": null,
   "metadata": {},
   "outputs": [],
   "source": [
    "try:\n",
    "    fonction_critique()\n",
    "except ValueError:\n",
    "    do_something()\n",
    "except KeyError as e:\n",
    "    raise e\n",
    "except:\n",
    "    pass"
   ]
  },
  {
   "cell_type": "markdown",
   "metadata": {},
   "source": [
    "Ignorer une erreur n’est pas une erreur de développement, il existe énormément de situations dans lesquelles on fait quelque chose d’optionnel qui peut ne pas fonctionner."
   ]
  },
  {
   "cell_type": "code",
   "execution_count": null,
   "metadata": {},
   "outputs": [],
   "source": [
    "while True:\n",
    "    try:\n",
    "        a = int(input(\"Nombre: \"))\n",
    "    except ValueError:\n",
    "        pass\n",
    "    else:\n",
    "        break\n",
    "    finally:\n",
    "        print(a)"
   ]
  },
  {
   "cell_type": "markdown",
   "metadata": {},
   "source": [
    "Le fait de pouvoir introspecter les exceptions permet de mieux gérer celles que l’on n’a pas anticipées et de les loguer.\n",
    "\n",
    "\n",
    "LE BUT D’UNE BONNE GESTION DES EXCEPTIONS EST DE MAINTENIR LE PROGRAMME ACTIF TANT QU’IL PEUT L’ÊTRE, ET D’INFORMER L’ADMINISTRATEUR DU PROGRAMME DE TOUT DYSFONCTIONNEMENT.\n",
    "\n",
    "Il existe les modules LOGGING et WARNING.\n"
   ]
  },
  {
   "cell_type": "markdown",
   "metadata": {},
   "source": [
    "### QUALITÉ"
   ]
  },
  {
   "cell_type": "markdown",
   "metadata": {},
   "source": [
    "Il existe plusieurs outils permettant d’assurer la qualité d’un code Python.\n",
    "\n",
    "On peut citer pep8 pour vérifier la qualité de la documentation, pyflakes ou pylint pour la vérification statique de code ou encore dodgy pour vérifier qq éléments de sécurité ou mccabe pour vérifier la complexité des différents parties de code.\n",
    "\n",
    "Il existe un outil qui va utiliser tous ceux-là et vous générer un rapport complet :\n",
    "```$ pip install prospector[with-everything]```\n",
    "\n",
    "On peut créer un fichier de config : .prospector.yaml\n",
    "\n",
    "puis on lance :\n",
    "```$ prospector > resultat.txt```"
   ]
  },
  {
   "cell_type": "markdown",
   "metadata": {},
   "source": [
    "```$ sudo apt install pep8```"
   ]
  },
  {
   "cell_type": "markdown",
   "metadata": {},
   "source": [
    "```$ pep8 example.py```"
   ]
  },
  {
   "cell_type": "markdown",
   "metadata": {},
   "source": [
    "```$ pep8 --statistics exemple.py```"
   ]
  },
  {
   "cell_type": "markdown",
   "metadata": {},
   "source": [
    "```$ pep8 --show-source exemple.py```"
   ]
  },
  {
   "cell_type": "markdown",
   "metadata": {},
   "source": [
    "```$ sudo apt install flake8```"
   ]
  },
  {
   "cell_type": "markdown",
   "metadata": {},
   "source": [
    "```$ sudo pip3 install pep8-naming```"
   ]
  },
  {
   "cell_type": "markdown",
   "metadata": {},
   "source": [
    "Un outil de reformatage de code : black\n",
    "\n",
    "```$ sudo pip3 install black```"
   ]
  }
 ],
 "metadata": {
  "celltoolbar": "Format de la Cellule Texte Brut",
  "kernelspec": {
   "display_name": "Python 3",
   "language": "python",
   "name": "python3"
  },
  "language_info": {
   "codemirror_mode": {
    "name": "ipython",
    "version": 3
   },
   "file_extension": ".py",
   "mimetype": "text/x-python",
   "name": "python",
   "nbconvert_exporter": "python",
   "pygments_lexer": "ipython3",
   "version": "3.8.6"
  }
 },
 "nbformat": 4,
 "nbformat_minor": 4
}
